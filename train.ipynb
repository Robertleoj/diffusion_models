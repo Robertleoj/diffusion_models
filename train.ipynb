{
 "cells": [
  {
   "cell_type": "code",
   "execution_count": 1,
   "metadata": {},
   "outputs": [
    {
     "name": "stderr",
     "output_type": "stream",
     "text": [
      "/home/bigbrainman/deepvenv/lib/python3.10/site-packages/tqdm/auto.py:22: TqdmWarning: IProgress not found. Please update jupyter and ipywidgets. See https://ipywidgets.readthedocs.io/en/stable/user_install.html\n",
      "  from .autonotebook import tqdm as notebook_tqdm\n"
     ]
    }
   ],
   "source": [
    "from denoising_diffusion_pytorch import GaussianDiffusion, Unet, Trainer\n",
    "from tqdm import tqdm\n",
    "import random"
   ]
  },
  {
   "cell_type": "code",
   "execution_count": 2,
   "metadata": {},
   "outputs": [],
   "source": [
    "img_size = 64\n",
    "device='cuda'\n",
    "\n",
    "model = Unet(img_size).to(device)\n",
    "diff = GaussianDiffusion(model=model, image_size=img_size)\n",
    "\n",
    "trainer = Trainer(\n",
    "    diff, \n",
    "    folder='./data/cartoon/', \n",
    "    results_folder='./results/cartoon/',\n",
    "    train_batch_size=32\n",
    ")"
   ]
  },
  {
   "cell_type": "code",
   "execution_count": 3,
   "metadata": {},
   "outputs": [],
   "source": [
    "# ds = trainer.ds\n",
    "\n",
    "# indices = list(range(len(ds)))\n",
    "# random.shuffle(indices)\n",
    "\n",
    "# for i  in tqdm(indices):\n",
    "#     try:\n",
    "#         img, p = ds[i]\n",
    "#     except Exception as e:\n",
    "#         print(e)\n",
    "#         print(p)"
   ]
  },
  {
   "cell_type": "code",
   "execution_count": 4,
   "metadata": {},
   "outputs": [
    {
     "name": "stderr",
     "output_type": "stream",
     "text": [
      "sampling loop time step: 100%|██████████| 1000/1000 [00:56<00:00, 17.68it/s]\n",
      "loss: 0.1316:   7%|▋         | 6945/100000 [09:02<6:21:55,  4.06it/s]  "
     ]
    }
   ],
   "source": [
    "trainer.load(5)\n",
    "trainer.train()"
   ]
  }
 ],
 "metadata": {
  "kernelspec": {
   "display_name": "Python 3.10.6 ('deepvenv': venv)",
   "language": "python",
   "name": "python3"
  },
  "language_info": {
   "codemirror_mode": {
    "name": "ipython",
    "version": 3
   },
   "file_extension": ".py",
   "mimetype": "text/x-python",
   "name": "python",
   "nbconvert_exporter": "python",
   "pygments_lexer": "ipython3",
   "version": "3.10.6"
  },
  "orig_nbformat": 4,
  "vscode": {
   "interpreter": {
    "hash": "1825afa15b6cdea663959bf2af05702a7254291d73e1ad58f88d7904a9136a0f"
   }
  }
 },
 "nbformat": 4,
 "nbformat_minor": 2
}
