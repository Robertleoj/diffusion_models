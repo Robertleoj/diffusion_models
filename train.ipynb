{
 "cells": [
  {
   "cell_type": "code",
   "execution_count": 1,
   "metadata": {},
   "outputs": [
    {
     "name": "stderr",
     "output_type": "stream",
     "text": [
      "/home/bigbrainman/deepvenv/lib/python3.10/site-packages/tqdm/auto.py:22: TqdmWarning: IProgress not found. Please update jupyter and ipywidgets. See https://ipywidgets.readthedocs.io/en/stable/user_install.html\n",
      "  from .autonotebook import tqdm as notebook_tqdm\n"
     ]
    }
   ],
   "source": [
    "from denoising_diffusion_pytorch import GaussianDiffusion, Unet, Trainer\n",
    "from tqdm import tqdm"
   ]
  },
  {
   "cell_type": "code",
   "execution_count": 2,
   "metadata": {},
   "outputs": [],
   "source": [
    "img_size = 64\n",
    "device='cuda'\n",
    "\n",
    "model = Unet(img_size).to(device)\n",
    "diff = GaussianDiffusion(model=model, image_size=img_size)\n",
    "\n",
    "trainer = Trainer(\n",
    "    diff, \n",
    "    folder='./data/cartoon/', \n",
    "    results_folder='./results/cartoon/',\n",
    "    train_batch_size=32\n",
    ")"
   ]
  },
  {
   "cell_type": "code",
   "execution_count": 3,
   "metadata": {},
   "outputs": [],
   "source": [
    "# ds = trainer.ds\n",
    "# for i  in tqdm(range(len(ds))):\n",
    "#     try:\n",
    "#         img, p = ds[i]\n",
    "#     except Exception as e:\n",
    "#         print(e)\n",
    "#         print(p)"
   ]
  },
  {
   "cell_type": "code",
   "execution_count": 4,
   "metadata": {},
   "outputs": [
    {
     "name": "stderr",
     "output_type": "stream",
     "text": [
      "sampling loop time step: 100%|██████████| 1000/1000 [00:56<00:00, 17.56it/s]\n",
      "sampling loop time step: 100%|██████████| 1000/1000 [00:56<00:00, 17.84it/s]\n",
      "sampling loop time step: 100%|██████████| 1000/1000 [00:57<00:00, 17.25it/s]\n",
      "loss: 0.1554:   5%|▌         | 5179/100000 [15:55<7:55:09,  3.33it/s]  \n"
     ]
    },
    {
     "ename": "OSError",
     "evalue": "Caught OSError in DataLoader worker process 12.\nOriginal Traceback (most recent call last):\n  File \"/home/bigbrainman/deepvenv/lib/python3.10/site-packages/torch/utils/data/_utils/worker.py\", line 302, in _worker_loop\n    data = fetcher.fetch(index)\n  File \"/home/bigbrainman/deepvenv/lib/python3.10/site-packages/torch/utils/data/_utils/fetch.py\", line 49, in fetch\n    data = [self.dataset[idx] for idx in possibly_batched_index]\n  File \"/home/bigbrainman/deepvenv/lib/python3.10/site-packages/torch/utils/data/_utils/fetch.py\", line 49, in <listcomp>\n    data = [self.dataset[idx] for idx in possibly_batched_index]\n  File \"/home/bigbrainman/denoising-diffusion-pytorch/denoising_diffusion_pytorch/denoising_diffusion_pytorch.py\", line 722, in __getitem__\n    return self.transform(img)\n  File \"/home/bigbrainman/deepvenv/lib/python3.10/site-packages/torchvision/transforms/transforms.py\", line 94, in __call__\n    img = t(img)\n  File \"/home/bigbrainman/deepvenv/lib/python3.10/site-packages/torch/nn/modules/module.py\", line 1130, in _call_impl\n    return forward_call(*input, **kwargs)\n  File \"/home/bigbrainman/deepvenv/lib/python3.10/site-packages/torchvision/transforms/transforms.py\", line 349, in forward\n    return F.resize(img, self.size, self.interpolation, self.max_size, self.antialias)\n  File \"/home/bigbrainman/deepvenv/lib/python3.10/site-packages/torchvision/transforms/functional.py\", line 430, in resize\n    return F_pil.resize(img, size=size, interpolation=pil_interpolation, max_size=max_size)\n  File \"/home/bigbrainman/deepvenv/lib/python3.10/site-packages/torchvision/transforms/functional_pil.py\", line 275, in resize\n    return img.resize((new_w, new_h), interpolation)\n  File \"/home/bigbrainman/deepvenv/lib/python3.10/site-packages/PIL/Image.py\", line 2046, in resize\n    self.load()\n  File \"/home/bigbrainman/deepvenv/lib/python3.10/site-packages/PIL/ImageFile.py\", line 251, in load\n    raise OSError(\nOSError: image file is truncated (14 bytes not processed)\n",
     "output_type": "error",
     "traceback": [
      "\u001b[0;31m---------------------------------------------------------------------------\u001b[0m",
      "\u001b[0;31mOSError\u001b[0m                                   Traceback (most recent call last)",
      "Cell \u001b[0;32mIn [4], line 2\u001b[0m\n\u001b[1;32m      1\u001b[0m trainer\u001b[39m.\u001b[39mload(\u001b[39m2\u001b[39m)\n\u001b[0;32m----> 2\u001b[0m trainer\u001b[39m.\u001b[39;49mtrain()\n",
      "File \u001b[0;32m~/denoising-diffusion-pytorch/denoising_diffusion_pytorch/denoising_diffusion_pytorch.py:838\u001b[0m, in \u001b[0;36mTrainer.train\u001b[0;34m(self)\u001b[0m\n\u001b[1;32m    835\u001b[0m total_loss \u001b[39m=\u001b[39m \u001b[39m0.\u001b[39m\n\u001b[1;32m    837\u001b[0m \u001b[39mfor\u001b[39;00m _ \u001b[39min\u001b[39;00m \u001b[39mrange\u001b[39m(\u001b[39mself\u001b[39m\u001b[39m.\u001b[39mgradient_accumulate_every):\n\u001b[0;32m--> 838\u001b[0m     data \u001b[39m=\u001b[39m \u001b[39mnext\u001b[39;49m(\u001b[39mself\u001b[39;49m\u001b[39m.\u001b[39;49mdl)\u001b[39m.\u001b[39mto(device)\n\u001b[1;32m    840\u001b[0m     \u001b[39mwith\u001b[39;00m \u001b[39mself\u001b[39m\u001b[39m.\u001b[39maccelerator\u001b[39m.\u001b[39mautocast():\n\u001b[1;32m    841\u001b[0m         loss \u001b[39m=\u001b[39m \u001b[39mself\u001b[39m\u001b[39m.\u001b[39mmodel(data)\n",
      "File \u001b[0;32m~/denoising-diffusion-pytorch/denoising_diffusion_pytorch/denoising_diffusion_pytorch.py:45\u001b[0m, in \u001b[0;36mcycle\u001b[0;34m(dl)\u001b[0m\n\u001b[1;32m     43\u001b[0m \u001b[39mdef\u001b[39;00m \u001b[39mcycle\u001b[39m(dl):\n\u001b[1;32m     44\u001b[0m     \u001b[39mwhile\u001b[39;00m \u001b[39mTrue\u001b[39;00m:\n\u001b[0;32m---> 45\u001b[0m         \u001b[39mfor\u001b[39;00m data \u001b[39min\u001b[39;00m dl:\n\u001b[1;32m     46\u001b[0m             \u001b[39myield\u001b[39;00m data\n",
      "File \u001b[0;32m~/deepvenv/lib/python3.10/site-packages/accelerate/data_loader.py:356\u001b[0m, in \u001b[0;36mDataLoaderShard.__iter__\u001b[0;34m(self)\u001b[0m\n\u001b[1;32m    354\u001b[0m \u001b[39mif\u001b[39;00m \u001b[39mself\u001b[39m\u001b[39m.\u001b[39mdevice \u001b[39mis\u001b[39;00m \u001b[39mnot\u001b[39;00m \u001b[39mNone\u001b[39;00m:\n\u001b[1;32m    355\u001b[0m     current_batch \u001b[39m=\u001b[39m send_to_device(current_batch, \u001b[39mself\u001b[39m\u001b[39m.\u001b[39mdevice)\n\u001b[0;32m--> 356\u001b[0m next_batch \u001b[39m=\u001b[39m \u001b[39mnext\u001b[39;49m(dataloader_iter)\n\u001b[1;32m    357\u001b[0m \u001b[39myield\u001b[39;00m current_batch\n\u001b[1;32m    358\u001b[0m current_batch \u001b[39m=\u001b[39m next_batch\n",
      "File \u001b[0;32m~/deepvenv/lib/python3.10/site-packages/torch/utils/data/dataloader.py:681\u001b[0m, in \u001b[0;36m_BaseDataLoaderIter.__next__\u001b[0;34m(self)\u001b[0m\n\u001b[1;32m    678\u001b[0m \u001b[39mif\u001b[39;00m \u001b[39mself\u001b[39m\u001b[39m.\u001b[39m_sampler_iter \u001b[39mis\u001b[39;00m \u001b[39mNone\u001b[39;00m:\n\u001b[1;32m    679\u001b[0m     \u001b[39m# TODO(https://github.com/pytorch/pytorch/issues/76750)\u001b[39;00m\n\u001b[1;32m    680\u001b[0m     \u001b[39mself\u001b[39m\u001b[39m.\u001b[39m_reset()  \u001b[39m# type: ignore[call-arg]\u001b[39;00m\n\u001b[0;32m--> 681\u001b[0m data \u001b[39m=\u001b[39m \u001b[39mself\u001b[39;49m\u001b[39m.\u001b[39;49m_next_data()\n\u001b[1;32m    682\u001b[0m \u001b[39mself\u001b[39m\u001b[39m.\u001b[39m_num_yielded \u001b[39m+\u001b[39m\u001b[39m=\u001b[39m \u001b[39m1\u001b[39m\n\u001b[1;32m    683\u001b[0m \u001b[39mif\u001b[39;00m \u001b[39mself\u001b[39m\u001b[39m.\u001b[39m_dataset_kind \u001b[39m==\u001b[39m _DatasetKind\u001b[39m.\u001b[39mIterable \u001b[39mand\u001b[39;00m \\\n\u001b[1;32m    684\u001b[0m         \u001b[39mself\u001b[39m\u001b[39m.\u001b[39m_IterableDataset_len_called \u001b[39mis\u001b[39;00m \u001b[39mnot\u001b[39;00m \u001b[39mNone\u001b[39;00m \u001b[39mand\u001b[39;00m \\\n\u001b[1;32m    685\u001b[0m         \u001b[39mself\u001b[39m\u001b[39m.\u001b[39m_num_yielded \u001b[39m>\u001b[39m \u001b[39mself\u001b[39m\u001b[39m.\u001b[39m_IterableDataset_len_called:\n",
      "File \u001b[0;32m~/deepvenv/lib/python3.10/site-packages/torch/utils/data/dataloader.py:1376\u001b[0m, in \u001b[0;36m_MultiProcessingDataLoaderIter._next_data\u001b[0;34m(self)\u001b[0m\n\u001b[1;32m   1374\u001b[0m \u001b[39melse\u001b[39;00m:\n\u001b[1;32m   1375\u001b[0m     \u001b[39mdel\u001b[39;00m \u001b[39mself\u001b[39m\u001b[39m.\u001b[39m_task_info[idx]\n\u001b[0;32m-> 1376\u001b[0m     \u001b[39mreturn\u001b[39;00m \u001b[39mself\u001b[39;49m\u001b[39m.\u001b[39;49m_process_data(data)\n",
      "File \u001b[0;32m~/deepvenv/lib/python3.10/site-packages/torch/utils/data/dataloader.py:1402\u001b[0m, in \u001b[0;36m_MultiProcessingDataLoaderIter._process_data\u001b[0;34m(self, data)\u001b[0m\n\u001b[1;32m   1400\u001b[0m \u001b[39mself\u001b[39m\u001b[39m.\u001b[39m_try_put_index()\n\u001b[1;32m   1401\u001b[0m \u001b[39mif\u001b[39;00m \u001b[39misinstance\u001b[39m(data, ExceptionWrapper):\n\u001b[0;32m-> 1402\u001b[0m     data\u001b[39m.\u001b[39;49mreraise()\n\u001b[1;32m   1403\u001b[0m \u001b[39mreturn\u001b[39;00m data\n",
      "File \u001b[0;32m~/deepvenv/lib/python3.10/site-packages/torch/_utils.py:461\u001b[0m, in \u001b[0;36mExceptionWrapper.reraise\u001b[0;34m(self)\u001b[0m\n\u001b[1;32m    457\u001b[0m \u001b[39mexcept\u001b[39;00m \u001b[39mTypeError\u001b[39;00m:\n\u001b[1;32m    458\u001b[0m     \u001b[39m# If the exception takes multiple arguments, don't try to\u001b[39;00m\n\u001b[1;32m    459\u001b[0m     \u001b[39m# instantiate since we don't know how to\u001b[39;00m\n\u001b[1;32m    460\u001b[0m     \u001b[39mraise\u001b[39;00m \u001b[39mRuntimeError\u001b[39;00m(msg) \u001b[39mfrom\u001b[39;00m \u001b[39mNone\u001b[39m\n\u001b[0;32m--> 461\u001b[0m \u001b[39mraise\u001b[39;00m exception\n",
      "\u001b[0;31mOSError\u001b[0m: Caught OSError in DataLoader worker process 12.\nOriginal Traceback (most recent call last):\n  File \"/home/bigbrainman/deepvenv/lib/python3.10/site-packages/torch/utils/data/_utils/worker.py\", line 302, in _worker_loop\n    data = fetcher.fetch(index)\n  File \"/home/bigbrainman/deepvenv/lib/python3.10/site-packages/torch/utils/data/_utils/fetch.py\", line 49, in fetch\n    data = [self.dataset[idx] for idx in possibly_batched_index]\n  File \"/home/bigbrainman/deepvenv/lib/python3.10/site-packages/torch/utils/data/_utils/fetch.py\", line 49, in <listcomp>\n    data = [self.dataset[idx] for idx in possibly_batched_index]\n  File \"/home/bigbrainman/denoising-diffusion-pytorch/denoising_diffusion_pytorch/denoising_diffusion_pytorch.py\", line 722, in __getitem__\n    return self.transform(img)\n  File \"/home/bigbrainman/deepvenv/lib/python3.10/site-packages/torchvision/transforms/transforms.py\", line 94, in __call__\n    img = t(img)\n  File \"/home/bigbrainman/deepvenv/lib/python3.10/site-packages/torch/nn/modules/module.py\", line 1130, in _call_impl\n    return forward_call(*input, **kwargs)\n  File \"/home/bigbrainman/deepvenv/lib/python3.10/site-packages/torchvision/transforms/transforms.py\", line 349, in forward\n    return F.resize(img, self.size, self.interpolation, self.max_size, self.antialias)\n  File \"/home/bigbrainman/deepvenv/lib/python3.10/site-packages/torchvision/transforms/functional.py\", line 430, in resize\n    return F_pil.resize(img, size=size, interpolation=pil_interpolation, max_size=max_size)\n  File \"/home/bigbrainman/deepvenv/lib/python3.10/site-packages/torchvision/transforms/functional_pil.py\", line 275, in resize\n    return img.resize((new_w, new_h), interpolation)\n  File \"/home/bigbrainman/deepvenv/lib/python3.10/site-packages/PIL/Image.py\", line 2046, in resize\n    self.load()\n  File \"/home/bigbrainman/deepvenv/lib/python3.10/site-packages/PIL/ImageFile.py\", line 251, in load\n    raise OSError(\nOSError: image file is truncated (14 bytes not processed)\n"
     ]
    }
   ],
   "source": [
    "trainer.load(2)\n",
    "trainer.train()"
   ]
  }
 ],
 "metadata": {
  "kernelspec": {
   "display_name": "Python 3.10.6 ('deepvenv': venv)",
   "language": "python",
   "name": "python3"
  },
  "language_info": {
   "codemirror_mode": {
    "name": "ipython",
    "version": 3
   },
   "file_extension": ".py",
   "mimetype": "text/x-python",
   "name": "python",
   "nbconvert_exporter": "python",
   "pygments_lexer": "ipython3",
   "version": "3.10.6"
  },
  "orig_nbformat": 4,
  "vscode": {
   "interpreter": {
    "hash": "1825afa15b6cdea663959bf2af05702a7254291d73e1ad58f88d7904a9136a0f"
   }
  }
 },
 "nbformat": 4,
 "nbformat_minor": 2
}
