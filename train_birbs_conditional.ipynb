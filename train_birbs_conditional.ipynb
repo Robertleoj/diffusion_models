{
 "cells": [
  {
   "cell_type": "code",
   "execution_count": 1,
   "metadata": {},
   "outputs": [
    {
     "name": "stderr",
     "output_type": "stream",
     "text": [
      "/home/bigbrainman/deepvenv/lib/python3.10/site-packages/tqdm/auto.py:22: TqdmWarning: IProgress not found. Please update jupyter and ipywidgets. See https://ipywidgets.readthedocs.io/en/stable/user_install.html\n",
      "  from .autonotebook import tqdm as notebook_tqdm\n"
     ]
    }
   ],
   "source": [
    "from birb_dataset import get_bird_dataset\n",
    "from denoising_diffusion_pytorch import GaussianDiffusion, Unet, Trainer\n",
    "from birb_dataset import get_stl10_dataset\n",
    "from birb_dataset import get_animals_10n"
   ]
  },
  {
   "cell_type": "code",
   "execution_count": 2,
   "metadata": {},
   "outputs": [],
   "source": [
    "IMAGE_SIZE = 64\n",
    "CONDITION_DIM = 256\n",
    "CONDITIONING_WEIGHTS=(1, 4)\n",
    "BATCH_SIZE = 16\n",
    "# ROOT = './data/birds'\n",
    "ROOT = './data/animals'\n",
    "RESULTS_FOLDER='./results/animals_cond'\n",
    "\n",
    "with open(f'{ROOT}/classes.txt', 'r') as f:\n",
    "    CLASSES = [l.strip() for l in f.readlines()]\n"
   ]
  },
  {
   "cell_type": "code",
   "execution_count": null,
   "metadata": {},
   "outputs": [],
   "source": []
  },
  {
   "cell_type": "code",
   "execution_count": 3,
   "metadata": {},
   "outputs": [],
   "source": [
    "ds, class_to_idx = get_bird_dataset(ROOT, IMAGE_SIZE, CLASSES, CONDITION_DIM)\n",
    "\n",
    "\n",
    "# ds, class_to_idx = get_stl10_dataset(IMAGE_SIZE)"
   ]
  },
  {
   "cell_type": "code",
   "execution_count": 4,
   "metadata": {},
   "outputs": [
    {
     "data": {
      "text/plain": [
       "{'cane': 0,\n",
       " 'cavallo': 1,\n",
       " 'elefante': 2,\n",
       " 'farfalla': 3,\n",
       " 'gallina': 4,\n",
       " 'gatto': 5,\n",
       " 'mucca': 6,\n",
       " 'pecora': 7,\n",
       " 'ragno': 8,\n",
       " 'scoiattolo': 9}"
      ]
     },
     "execution_count": 4,
     "metadata": {},
     "output_type": "execute_result"
    }
   ],
   "source": [
    "class_to_idx"
   ]
  },
  {
   "cell_type": "code",
   "execution_count": 5,
   "metadata": {},
   "outputs": [],
   "source": [
    "unet = Unet(\n",
    "    IMAGE_SIZE, \n",
    "    condition_dim=CONDITION_DIM,\n",
    "    condition_vocab_size=len(class_to_idx)\n",
    ")\n",
    "\n",
    "diff = GaussianDiffusion(\n",
    "    unet, \n",
    "    image_size=IMAGE_SIZE,\n",
    "    timesteps=1000,\n",
    "    conditioning_weights=CONDITIONING_WEIGHTS,\n",
    ")\n",
    "\n",
    "trainer = Trainer(\n",
    "    diff, \n",
    "    ds=ds,\n",
    "    results_folder=RESULTS_FOLDER,\n",
    "    conditioning=True,\n",
    "    train_batch_size=BATCH_SIZE,\n",
    "    class_to_idx=class_to_idx,\n",
    "    save_and_sample_every=1000,\n",
    "    train_lr=1e-8,\n",
    "    num_samples=BATCH_SIZE,\n",
    "    train_num_steps=10000000000\n",
    ")"
   ]
  },
  {
   "cell_type": "code",
   "execution_count": 6,
   "metadata": {},
   "outputs": [
    {
     "name": "stderr",
     "output_type": "stream",
     "text": [
      "sampling loop time step: 100%|██████████| 1000/1000 [00:36<00:00, 27.27it/s]it/s] \n",
      "sampling loop time step: 100%|██████████| 1000/1000 [00:36<00:00, 27.12it/s]it/s]  \n",
      "sampling loop time step: 100%|██████████| 1000/1000 [00:37<00:00, 26.80it/s]it/s]  \n",
      "sampling loop time step: 100%|██████████| 1000/1000 [00:37<00:00, 26.89it/s]it/s]  \n",
      "sampling loop time step: 100%|██████████| 1000/1000 [00:37<00:00, 26.84it/s]it/s]  \n",
      "sampling loop time step: 100%|██████████| 1000/1000 [00:38<00:00, 25.81it/s]it/s]  \n",
      "sampling loop time step: 100%|██████████| 1000/1000 [00:36<00:00, 27.17it/s]it/s]  \n",
      "sampling loop time step: 100%|██████████| 1000/1000 [00:37<00:00, 26.49it/s]it/s]  \n",
      "loss: 0.7177:   0%|          | 109898/10000000000 [45:14<749992:37:48,  3.70it/s]  "
     ]
    }
   ],
   "source": [
    "trainer.load(101)\n",
    "trainer.train()"
   ]
  }
 ],
 "metadata": {
  "kernelspec": {
   "display_name": "Python 3.10.6 ('deepvenv': venv)",
   "language": "python",
   "name": "python3"
  },
  "language_info": {
   "codemirror_mode": {
    "name": "ipython",
    "version": 3
   },
   "file_extension": ".py",
   "mimetype": "text/x-python",
   "name": "python",
   "nbconvert_exporter": "python",
   "pygments_lexer": "ipython3",
   "version": "3.10.6"
  },
  "orig_nbformat": 4,
  "vscode": {
   "interpreter": {
    "hash": "1825afa15b6cdea663959bf2af05702a7254291d73e1ad58f88d7904a9136a0f"
   }
  }
 },
 "nbformat": 4,
 "nbformat_minor": 2
}
